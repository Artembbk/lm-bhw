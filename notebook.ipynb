{
 "cells": [
  {
   "cell_type": "code",
   "execution_count": 7,
   "metadata": {},
   "outputs": [
    {
     "name": "stdout",
     "output_type": "stream",
     "text": [
      ".gz.1                 1%[                    ]  24,11M  3,69MB/s    eta 7m 35s ^C\n"
     ]
    }
   ],
   "source": [
    "!wget --quiet --show-progress \"https://huggingface.co/datasets/roneneldan/TinyStories/resolve/main/TinyStories_all_data.tar.gz\""
   ]
  },
  {
   "cell_type": "code",
   "execution_count": 1,
   "metadata": {},
   "outputs": [
    {
     "name": "stderr",
     "output_type": "stream",
     "text": [
      "Loading data: 100%|██████████| 50/50 [35:50<00:00, 43.01s/it]\n"
     ]
    },
    {
     "ename": "",
     "evalue": "",
     "output_type": "error",
     "traceback": [
      "\u001b[1;31mПри выполнении кода в текущей ячейке или предыдущей ячейке ядро аварийно завершило работу. Проверьте код в ячейках, чтобы определить возможную причину сбоя. Щелкните <a href=\"https://aka.ms/vscodeJupyterKernelCrash\">здесь</a> для получения дополнительных сведений. Подробнее см. в <a href='command:jupyter.viewOutput'>журнале Jupyter</a>."
     ]
    }
   ],
   "source": [
    "from dataset.dataset import TinyStoriesDataset\n",
    "\n",
    "num_files_for_tokenizer = 10\n",
    "num_files_for_data = 50\n",
    "data_path = \"data/\"\n",
    "tokenizer_path = \"trained_tokenizers/\"\n",
    "processed_data_path = \"processed_data/\"\n",
    "dataset = TinyStoriesDataset(data_path, tokenizer_path, processed_data_path, num_files_for_tokenizer=num_files_for_tokenizer, num_files_for_data=num_files_for_data)"
   ]
  },
  {
   "cell_type": "code",
   "execution_count": 1,
   "metadata": {},
   "outputs": [],
   "source": [
    "from collate.collate import collate_fn\n",
    "import numpy as np\n",
    "import random\n",
    "\n",
    "\n",
    "\n",
    "data = [(np.random.randint(10, size=5), random.randint(1,27)) for _ in range(6)]\n",
    "\n"
   ]
  },
  {
   "cell_type": "code",
   "execution_count": 4,
   "metadata": {},
   "outputs": [
    {
     "name": "stdout",
     "output_type": "stream",
     "text": [
      "torch.Size([30])\n"
     ]
    },
    {
     "data": {
      "text/plain": [
       "(tensor([0, 1, 0, 7, 2, 9, 1, 3, 0, 9, 9, 0, 0, 7, 1, 7, 5, 6, 9, 3, 0, 9, 0, 4,\n",
       "         7, 7, 1, 0, 5, 0]),\n",
       " tensor([ 6, 24,  1, 13, 10,  8]))"
      ]
     },
     "execution_count": 4,
     "metadata": {},
     "output_type": "execute_result"
    }
   ],
   "source": [
    "collate_fn(data)"
   ]
  },
  {
   "cell_type": "code",
   "execution_count": null,
   "metadata": {},
   "outputs": [],
   "source": []
  }
 ],
 "metadata": {
  "kernelspec": {
   "display_name": "Python 3",
   "language": "python",
   "name": "python3"
  },
  "language_info": {
   "codemirror_mode": {
    "name": "ipython",
    "version": 3
   },
   "file_extension": ".py",
   "mimetype": "text/x-python",
   "name": "python",
   "nbconvert_exporter": "python",
   "pygments_lexer": "ipython3",
   "version": "3.10.12"
  }
 },
 "nbformat": 4,
 "nbformat_minor": 2
}
